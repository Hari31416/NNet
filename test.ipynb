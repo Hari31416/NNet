{
 "cells": [
  {
   "attachments": {},
   "cell_type": "markdown",
   "metadata": {},
   "source": [
    "# Imports"
   ]
  },
  {
   "cell_type": "code",
   "execution_count": 3,
   "metadata": {},
   "outputs": [
    {
     "name": "stderr",
     "output_type": "stream",
     "text": [
      "2023-02-26 19:21:21.636990: I tensorflow/core/platform/cpu_feature_guard.cc:193] This TensorFlow binary is optimized with oneAPI Deep Neural Network Library (oneDNN) to use the following CPU instructions in performance-critical operations:  AVX2 FMA\n",
      "To enable them in other operations, rebuild TensorFlow with the appropriate compiler flags.\n"
     ]
    }
   ],
   "source": [
    "from nnet.model import Sequential\n",
    "from nnet.layers import Input, Dense, Dropout\n",
    "import numpy as np\n",
    "from sklearn.datasets import make_regression\n",
    "import pandas as pd\n",
    "from nnet.utils import one_hot\n",
    "import matplotlib.pyplot as plt\n",
    "import tensorflow as tf\n",
    "import tensorflow.keras.layers as tfl\n",
    "from tensorflow.keras.models import Sequential as tfSequential"
   ]
  },
  {
   "cell_type": "code",
   "execution_count": 4,
   "metadata": {},
   "outputs": [],
   "source": [
    "fashion = pd.read_csv(\n",
    "    \"/media/hari31416/Hari_SSD/Users/harik/Desktop/APL745/Assignments/Assignment_4/data/fashion-mnist_train.csv\"\n",
    ")\n"
   ]
  },
  {
   "attachments": {},
   "cell_type": "markdown",
   "metadata": {},
   "source": [
    "# Tests"
   ]
  },
  {
   "attachments": {},
   "cell_type": "markdown",
   "metadata": {},
   "source": [
    "## Test 1"
   ]
  },
  {
   "cell_type": "code",
   "execution_count": 33,
   "metadata": {},
   "outputs": [
    {
     "name": "stdout",
     "output_type": "stream",
     "text": [
      "10000 10 784\n",
      "Model: my_model\n",
      "_____________________________________________________________________________________________________\n",
      "╒═════════════╤════════════════╤═════════════════╤═════════════════╤═══════════════╤════════════════╕\n",
      "│ Name        │ Input Shapes   │ Output Shapes   │ Weight Shapes   │ Bias Shapes   │   # Parameters │\n",
      "╞═════════════╪════════════════╪═════════════════╪═════════════════╪═══════════════╪════════════════╡\n",
      "│ First Input │ (784,)         │ (784,)          │ None            │ None          │              0 │\n",
      "├─────────────┼────────────────┼─────────────────┼─────────────────┼───────────────┼────────────────┤\n",
      "│ Dense 1     │ (784,)         │ (20,)           │ (20, 784)       │ (20, 1)       │          15700 │\n",
      "├─────────────┼────────────────┼─────────────────┼─────────────────┼───────────────┼────────────────┤\n",
      "│ Dense A     │ (20,)          │ (10,)           │ (10, 20)        │ (10, 1)       │            210 │\n",
      "├─────────────┼────────────────┼─────────────────┼─────────────────┼───────────────┼────────────────┤\n",
      "│ Dense C     │ (10,)          │ (8,)            │ (8, 10)         │ (8, 1)        │             88 │\n",
      "├─────────────┼────────────────┼─────────────────┼─────────────────┼───────────────┼────────────────┤\n",
      "│ Dense Z     │ (8,)           │ (10,)           │ (10, 8)         │ (10, 1)       │             90 │\n",
      "╘═════════════╧════════════════╧═════════════════╧═════════════════╧═══════════════╧════════════════╛\n",
      "=====================================================================================================\n",
      "Total Parameters: 16088\n",
      "_____________________________________________________________________________________________________\n"
     ]
    }
   ],
   "source": [
    "X = fashion.iloc[:, 1:].values\n",
    "y = fashion.iloc[:, 0].values\n",
    "y_oh = one_hot(y, 10)\n",
    "\n",
    "X = X.T\n",
    "X = X / X.max()\n",
    "nx, m = X.shape\n",
    "ny, m = y_oh.shape\n",
    "print(m, ny, nx)\n",
    "\n",
    "model = Sequential(\"my_model\")\n",
    "inp = Input((nx,), name=\"First Input\")\n",
    "dense = Dense(20, activation=\"relu\", name=\"Dense 1\")\n",
    "model.add(inp)\n",
    "model.add(dense)\n",
    "model.add(Dense(10, name=\"Dense A\", activation=\"relu\"))\n",
    "# model.add(Dropout(0.2, \"dropout 1\"))\n",
    "model.add(Dense(8, name=\"Dense C\", activation=\"relu\"))\n",
    "model.add(Dense(ny, name=\"Dense Z\", activation=\"sigmoid\"))\n",
    "\n",
    "model.summary()\n",
    "\n",
    "model.compile(\n",
    "    loss=\"categorical_cross_entropy\",\n",
    "    metrics=[\"accuracy\", \"precision\", \"recall\", \"f1\"],\n",
    "    initializer=\"glorot\",\n",
    ")\n",
    "\n",
    "# history = model.fit(X, y_oh, epochs=100, lr=0.05, batch_size=100, verbose=2)\n",
    "# history_df = pd.DataFrame(history)\n",
    "# width = 6\n",
    "# height = 6 * len(history_df.columns)\n",
    "# history_df.plot(subplots=True, figsize=(width, height))\n",
    "# plt.tight_layout()\n",
    "# plt.show()"
   ]
  },
  {
   "cell_type": "code",
   "execution_count": 38,
   "metadata": {},
   "outputs": [
    {
     "name": "stdout",
     "output_type": "stream",
     "text": [
      "(784, 1)\n"
     ]
    },
    {
     "data": {
      "text/plain": [
       "(784, 1)"
      ]
     },
     "execution_count": 38,
     "metadata": {},
     "output_type": "execute_result"
    }
   ],
   "source": [
    "x = X[:, 0]\n",
    "x = x[:, np.newaxis]\n",
    "print(x.shape)\n",
    "model[0].forward(x)\n",
    "x.shape"
   ]
  },
  {
   "cell_type": "code",
   "execution_count": 39,
   "metadata": {},
   "outputs": [
    {
     "data": {
      "text/plain": [
       "(20, 1)"
      ]
     },
     "execution_count": 39,
     "metadata": {},
     "output_type": "execute_result"
    }
   ],
   "source": [
    "x = model[1].forward(x)\n",
    "x.shape"
   ]
  },
  {
   "cell_type": "code",
   "execution_count": 40,
   "metadata": {},
   "outputs": [
    {
     "data": {
      "text/plain": [
       "(20, 784)"
      ]
     },
     "execution_count": 40,
     "metadata": {},
     "output_type": "execute_result"
    }
   ],
   "source": [
    "model[1].weight.shape"
   ]
  },
  {
   "cell_type": "code",
   "execution_count": 41,
   "metadata": {},
   "outputs": [
    {
     "data": {
      "text/plain": [
       "(10, 1)"
      ]
     },
     "execution_count": 41,
     "metadata": {},
     "output_type": "execute_result"
    }
   ],
   "source": [
    "x = model[2].forward(x)\n",
    "x.shape"
   ]
  },
  {
   "cell_type": "code",
   "execution_count": 42,
   "metadata": {},
   "outputs": [
    {
     "data": {
      "text/plain": [
       "(8, 1)"
      ]
     },
     "execution_count": 42,
     "metadata": {},
     "output_type": "execute_result"
    }
   ],
   "source": [
    "x = model[3].forward(x)\n",
    "x.shape"
   ]
  },
  {
   "cell_type": "code",
   "execution_count": 43,
   "metadata": {},
   "outputs": [
    {
     "data": {
      "text/plain": [
       "(10, 1)"
      ]
     },
     "execution_count": 43,
     "metadata": {},
     "output_type": "execute_result"
    }
   ],
   "source": [
    "x = model[4].forward(x)\n",
    "x.shape"
   ]
  },
  {
   "cell_type": "code",
   "execution_count": 19,
   "metadata": {},
   "outputs": [
    {
     "ename": "IndexError",
     "evalue": "list index out of range",
     "output_type": "error",
     "traceback": [
      "\u001b[0;31m---------------------------------------------------------------------------\u001b[0m",
      "\u001b[0;31mIndexError\u001b[0m                                Traceback (most recent call last)",
      "Cell \u001b[0;32mIn[19], line 1\u001b[0m\n\u001b[0;32m----> 1\u001b[0m x \u001b[39m=\u001b[39m model[\u001b[39m5\u001b[39;49m]\u001b[39m.\u001b[39mforward(x)\n\u001b[1;32m      2\u001b[0m x\u001b[39m.\u001b[39mshape\n",
      "File \u001b[0;32m/media/hari31416/Hari_SSD/Users/harik/Desktop/NNet/nnet/model.py:41\u001b[0m, in \u001b[0;36mSequential.__getitem__\u001b[0;34m(self, i)\u001b[0m\n\u001b[1;32m     40\u001b[0m \u001b[39mdef\u001b[39;00m \u001b[39m__getitem__\u001b[39m(\u001b[39mself\u001b[39m, i):\n\u001b[0;32m---> 41\u001b[0m     \u001b[39mreturn\u001b[39;00m \u001b[39mself\u001b[39;49m\u001b[39m.\u001b[39;49mlayers[i]\n",
      "\u001b[0;31mIndexError\u001b[0m: list index out of range"
     ]
    }
   ],
   "source": [
    "x = model[5].forward(x)\n",
    "x.shape"
   ]
  },
  {
   "attachments": {},
   "cell_type": "markdown",
   "metadata": {},
   "source": [
    "## Test 2"
   ]
  },
  {
   "cell_type": "code",
   "execution_count": 4,
   "metadata": {},
   "outputs": [
    {
     "name": "stdout",
     "output_type": "stream",
     "text": [
      "Model: \"sequential\"\n",
      "_________________________________________________________________\n",
      " Layer (type)                Output Shape              Param #   \n",
      "=================================================================\n",
      " conv2d (Conv2D)             (None, 28, 28, 32)        320       \n",
      "                                                                 \n",
      " max_pooling2d (MaxPooling2D  (None, 14, 14, 32)       0         \n",
      " )                                                               \n",
      "                                                                 \n",
      " conv2d_1 (Conv2D)           (None, 12, 12, 64)        18496     \n",
      "                                                                 \n",
      " max_pooling2d_1 (MaxPooling  (None, 6, 6, 64)         0         \n",
      " 2D)                                                             \n",
      "                                                                 \n",
      " flatten (Flatten)           (None, 2304)              0         \n",
      "                                                                 \n",
      " dense (Dense)               (None, 10)                23050     \n",
      "                                                                 \n",
      "=================================================================\n",
      "Total params: 41,866\n",
      "Trainable params: 41,866\n",
      "Non-trainable params: 0\n",
      "_________________________________________________________________\n"
     ]
    },
    {
     "name": "stderr",
     "output_type": "stream",
     "text": [
      "2023-02-26 19:21:37.120029: I tensorflow/core/platform/cpu_feature_guard.cc:193] This TensorFlow binary is optimized with oneAPI Deep Neural Network Library (oneDNN) to use the following CPU instructions in performance-critical operations:  AVX2 FMA\n",
      "To enable them in other operations, rebuild TensorFlow with the appropriate compiler flags.\n"
     ]
    }
   ],
   "source": [
    "model = tfSequential()\n",
    "model.add(tfl.InputLayer(input_shape=(28, 28, 1, )))\n",
    "model.add(tfl.Conv2D(32, (3, 3), activation=\"relu\", padding=\"same\"))\n",
    "model.add(tfl.MaxPooling2D((2, 2)))\n",
    "model.add(tfl.Conv2D(64, (3, 3), activation=\"relu\", padding=\"valid\"))\n",
    "model.add(tfl.MaxPooling2D((2, 2)))\n",
    "model.add(tfl.Flatten())\n",
    "model.add(tfl.Dense(10))\n",
    "\n",
    "model.summary()\n"
   ]
  },
  {
   "cell_type": "code",
   "execution_count": 13,
   "metadata": {},
   "outputs": [
    {
     "name": "stdout",
     "output_type": "stream",
     "text": [
      "Model: \"sequential_9\"\n",
      "_________________________________________________________________\n",
      " Layer (type)                Output Shape              Param #   \n",
      "=================================================================\n",
      " reshape (Reshape)           (None, 28, 28, 1)         0         \n",
      "                                                                 \n",
      " conv2d_17 (Conv2D)          (None, 28, 28, 32)        320       \n",
      "                                                                 \n",
      " max_pooling2d_9 (MaxPooling  (None, 14, 14, 32)       0         \n",
      " 2D)                                                             \n",
      "                                                                 \n",
      " conv2d_18 (Conv2D)          (None, 12, 12, 64)        18496     \n",
      "                                                                 \n",
      " flatten_8 (Flatten)         (None, 9216)              0         \n",
      "                                                                 \n",
      " dense_11 (Dense)            (None, 128)               1179776   \n",
      "                                                                 \n",
      " dense_12 (Dense)            (None, 10)                1290      \n",
      "                                                                 \n",
      "=================================================================\n",
      "Total params: 1,199,882\n",
      "Trainable params: 1,199,882\n",
      "Non-trainable params: 0\n",
      "_________________________________________________________________\n"
     ]
    }
   ],
   "source": [
    "model = tfSequential()\n",
    "model.add(tfl.InputLayer(input_shape=(784, )))\n",
    "model.add(tfl.Reshape((28, 28, 1)))\n",
    "model.add(tfl.Conv2D(32, (3, 3), activation=\"relu\", padding=\"same\"))\n",
    "model.add(tfl.MaxPooling2D((2, 2)))\n",
    "model.add(tfl.Conv2D(64, (3, 3), activation=\"relu\", padding=\"valid\"))\n",
    "model.add(tfl.Flatten())\n",
    "model.add(tfl.Dense(128, activation=\"relu\"))\n",
    "model.add(tfl.Dense(10))\n",
    "\n",
    "model.summary()"
   ]
  },
  {
   "attachments": {},
   "cell_type": "markdown",
   "metadata": {},
   "source": [
    "## Test3"
   ]
  },
  {
   "cell_type": "code",
   "execution_count": 5,
   "metadata": {},
   "outputs": [
    {
     "name": "stdout",
     "output_type": "stream",
     "text": [
      "10000 10 784\n",
      "Model: my_model\n",
      "_____________________________________________________________________________________________________\n",
      "╒═════════════╤════════════════╤═════════════════╤═════════════════╤═══════════════╤════════════════╕\n",
      "│ Name        │ Input Shapes   │ Output Shapes   │ Weight Shapes   │ Bias Shapes   │   # Parameters │\n",
      "╞═════════════╪════════════════╪═════════════════╪═════════════════╪═══════════════╪════════════════╡\n",
      "│ First Input │ (784,)         │ (784,)          │ None            │ None          │              0 │\n",
      "├─────────────┼────────────────┼─────────────────┼─────────────────┼───────────────┼────────────────┤\n",
      "│ Reshape     │ (784,)         │ (28, 28, 1)     │ None            │ None          │              0 │\n",
      "├─────────────┼────────────────┼─────────────────┼─────────────────┼───────────────┼────────────────┤\n",
      "│ Conv 1      │ (28, 28, 1)    │ (28, 28, 32)    │ (3, 3, 1, 32)   │ (32, 1)       │            320 │\n",
      "├─────────────┼────────────────┼─────────────────┼─────────────────┼───────────────┼────────────────┤\n",
      "│ MaxPool 1   │ (28, 28, 32)   │ (14, 14, 32)    │ None            │ None          │              0 │\n",
      "├─────────────┼────────────────┼─────────────────┼─────────────────┼───────────────┼────────────────┤\n",
      "│ Conv 2      │ (14, 14, 32)   │ (12, 12, 64)    │ (3, 3, 32, 64)  │ (64, 1)       │          18496 │\n",
      "├─────────────┼────────────────┼─────────────────┼─────────────────┼───────────────┼────────────────┤\n",
      "│ MaxPool 2   │ (12, 12, 64)   │ (6, 6, 64)      │ None            │ None          │              0 │\n",
      "├─────────────┼────────────────┼─────────────────┼─────────────────┼───────────────┼────────────────┤\n",
      "│ Flatten     │ (6, 6, 64)     │ (2304,)         │ None            │ None          │              0 │\n",
      "├─────────────┼────────────────┼─────────────────┼─────────────────┼───────────────┼────────────────┤\n",
      "│ Output      │ (2304,)        │ (10,)           │ (10, 2304)      │ (10, 1)       │          23050 │\n",
      "╘═════════════╧════════════════╧═════════════════╧═════════════════╧═══════════════╧════════════════╛\n",
      "=====================================================================================================\n",
      "Total Parameters: 41866\n",
      "_____________________________________________________________________________________________________\n"
     ]
    }
   ],
   "source": [
    "from nnet.model import Sequential\n",
    "from nnet.layers import Input, Dense, Dropout, Conv2D, MaxPool2D, Flatten, Reshape\n",
    "from nnet.utils import one_hot\n",
    "import numpy as np\n",
    "import pandas as pd\n",
    "\n",
    "fashion = pd.read_csv(\n",
    "    \"/media/hari31416/Hari_SSD/Users/harik/Desktop/APL745/Assignments/Assignment_4/data/fashion-mnist_train.csv\"\n",
    ")\n",
    "\n",
    "X = fashion.iloc[:, 1:].values\n",
    "y = fashion.iloc[:, 0].values\n",
    "y_oh = one_hot(y, 10)\n",
    "\n",
    "X = X.T\n",
    "X = X / X.max()\n",
    "nx, m = X.shape\n",
    "ny, m = y_oh.shape\n",
    "print(m, ny, nx)\n",
    "\n",
    "model = Sequential(\"my_model\")\n",
    "# inp = Input((28, 28, 3), name=\"First Input\")\n",
    "inp = Input((nx,), name=\"First Input\")\n",
    "\n",
    "model.add(inp)\n",
    "model.add(Reshape((28, 28, 1), name=\"Reshape\"))\n",
    "model.add(Conv2D(32, (3, 3), padding=\"same\", activation=\"relu\", name=\"Conv 1\"))\n",
    "model.add(MaxPool2D((2, 2), name=\"MaxPool 1\"))\n",
    "model.add(Conv2D(64, (3, 3), padding=\"valid\", activation=\"relu\", name=\"Conv 2\"))\n",
    "model.add(MaxPool2D((2, 2), name=\"MaxPool 2\"))\n",
    "model.add(Flatten(name=\"Flatten\"))\n",
    "model.add(Dense(10, name=\"Output\", activation=\"softmax\"))\n",
    "\n",
    "model.summary()\n",
    "\n",
    "model.compile(\n",
    "    loss=\"categorical_cross_entropy\",\n",
    "    metrics=[\"accuracy\"],\n",
    "    initializer=\"glorot\",\n",
    ")"
   ]
  },
  {
   "cell_type": "code",
   "execution_count": 7,
   "metadata": {},
   "outputs": [
    {
     "name": "stdout",
     "output_type": "stream",
     "text": [
      "After Layer: Input((784,)), Shape: (784, 64)\n",
      "After Layer: Reshape((28, 28, 1)), Shape: (28, 28, 1, 64)\n",
      "After Layer: Conv2D(32, (3, 3), 1, same), Shape: (28, 28, 32, 64)\n",
      "After Layer: MaxPool2D((2, 2), 2), Shape: (14, 14, 32, 64)\n",
      "After Layer: Conv2D(64, (3, 3), 1, valid), Shape: (12, 12, 64, 64)\n",
      "After Layer: MaxPool2D((2, 2), 2), Shape: (6, 6, 64, 64)\n",
      "After Layer: Flatten(), Shape: (2304, 64)\n",
      "After Layer: Dense(10), Shape: (10, 64)\n"
     ]
    }
   ],
   "source": [
    "x = X[:, :64]\n",
    "for l in model.layers:\n",
    "    x = l.forward(x)\n",
    "    print(f\"After Layer: {l}, Shape: {x.shape}\")"
   ]
  },
  {
   "cell_type": "code",
   "execution_count": 13,
   "metadata": {},
   "outputs": [
    {
     "data": {
      "text/plain": [
       "array([0, 1, 2, 2, 3, 2, 8, 6, 5, 0, 3, 4, 4, 6, 8, 5, 6, 3, 6, 4, 4, 4,\n",
       "       2, 1, 5, 7, 8, 4, 4, 1, 5, 7, 7, 8, 1, 0, 9, 8, 0, 8, 2, 0, 4, 6,\n",
       "       2, 0, 3, 3, 2, 3, 2, 2, 9, 3, 0, 9, 9, 4, 6, 0, 4, 5, 4, 6])"
      ]
     },
     "execution_count": 13,
     "metadata": {},
     "output_type": "execute_result"
    }
   ],
   "source": [
    "y[:64]"
   ]
  },
  {
   "cell_type": "code",
   "execution_count": 11,
   "metadata": {},
   "outputs": [
    {
     "data": {
      "text/plain": [
       "array([3, 7, 7, 3, 3, 3, 3, 3, 7, 7, 3, 7, 3, 3, 8, 7, 3, 7, 3, 3, 3, 3,\n",
       "       3, 8, 3, 3, 3, 7, 3, 8, 3, 3, 3, 3, 8, 3, 3, 3, 7, 3, 3, 3, 3, 3,\n",
       "       7, 7, 8, 3, 3, 8, 3, 3, 7, 3, 3, 3, 8, 3, 3, 3, 3, 3, 3, 3])"
      ]
     },
     "execution_count": 11,
     "metadata": {},
     "output_type": "execute_result"
    }
   ],
   "source": [
    "np.argmax(x, axis=0)"
   ]
  }
 ],
 "metadata": {
  "kernelspec": {
   "display_name": "data-science",
   "language": "python",
   "name": "python3"
  },
  "language_info": {
   "codemirror_mode": {
    "name": "ipython",
    "version": 3
   },
   "file_extension": ".py",
   "mimetype": "text/x-python",
   "name": "python",
   "nbconvert_exporter": "python",
   "pygments_lexer": "ipython3",
   "version": "3.9.15"
  },
  "orig_nbformat": 4,
  "vscode": {
   "interpreter": {
    "hash": "2efee1efa502125d01e6b4768ba06d9453d29f3642bfd14ad5d4a769de82e88c"
   }
  }
 },
 "nbformat": 4,
 "nbformat_minor": 2
}
